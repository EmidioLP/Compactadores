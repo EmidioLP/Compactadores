{
  "nbformat": 4,
  "nbformat_minor": 0,
  "metadata": {
    "colab": {
      "name": "Compactadores.ipynb",
      "provenance": []
    },
    "kernelspec": {
      "name": "python3",
      "display_name": "Python 3"
    },
    "language_info": {
      "name": "python"
    }
  },
  "cells": [
    {
      "cell_type": "markdown",
      "metadata": {
        "id": "I3XtGGjn6H0E"
      },
      "source": [
        "**Grupo: Emídio Lopes e Claudionor**\n",
        "\n",
        "Informações relevantes para o problema:\n"
      ]
    },
    {
      "cell_type": "markdown",
      "metadata": {
        "id": "DkjcZ_sC6NWp"
      },
      "source": [
        "Todos os testes foram feitos em um computador com as seguintes especificações:\n",
        "\n",
        "\n",
        "1.   Processador Ryzen 5 2600 (6 núcleos, 12 threads)\n",
        "2.   Placa de vídeo Radeon RX 580 (8G de vram)\n",
        "3.   16 GB de memória RAM 2400MHZ\n",
        "\n",
        "A máquina virtual nas quais os testes foram realizados também é detentora das seguintes especificações:\n",
        "\n",
        "1. Sistema operacional Ubuntu 20.04\n",
        "2. Memória principal: 4096 MB\n",
        "3. Memória de Vídeo: 16 MB\n",
        "4. 1 CPU\n",
        "\n",
        "Os arquivos gerados para a compressão foram, respectivamente:\n",
        "1. CompressStudy_1 (332 MB)\n",
        "2. CompressStudy_2 (238 MB)\n",
        "3. CompressStudy_3 (80 MB)\n",
        "4. CompressStudy_4 (648 MB)\n",
        "5. CompressStudy_5 (648 MB)\n",
        "\n",
        "\n",
        "\n"
      ]
    },
    {
      "cell_type": "markdown",
      "metadata": {
        "id": "CaGVjNxwbuhQ"
      },
      "source": [
        "Para método de convenção e análise mais a frente, vou transformar todos os arquivos em KB (Kilobyte) para seus respectivos tamanhos em MB (Megabyte)."
      ]
    },
    {
      "cell_type": "markdown",
      "metadata": {
        "id": "ORoblA719KET"
      },
      "source": [
        "Compressões feitas com o 7zip:\n",
        "\n",
        "1. O arquivo **CompressStudy_1** de 332 MB (Megabyte) foi comprimido para 51 KB (Kilobyte) ou 0,051 MB (Megabyte) e levou um tempo de 28 segundos para realizar toda a compressão.\n",
        "2. O arquivo **CompressStudy_2** de 238 MB (Megabyte) foi comprimido para 37 KB (Kilobyte) ou 0,037 MB (Megabyte) e levou um tempo de 10 segundos para realizar a compressão.\n",
        "3. O arquivo **CompressStudy_3** de 80 MB (Megabyte) foi comprimido para 13 KB (Kilobyte) ou 0,013 MB (Megabyte) e levou um tempo de 5 segundos para realizar a compressão.\n",
        "4. O arquivo **CompressStudy_4** de 648 MB (Megabyte) foi comprimido para 99 KB (Kilobyte) ou 0,099 MB (Megabyte) e levou um tempo de 46 segundos para realizar a compressão.\n",
        "5. O arquivo **CompressStudy_5** de 648 MB (Megabyte) foi comprimido para 99 KB (Kilobyte) 0,099 MB (Megabyte) e levou um tempo de 44 segundos para realizar a compressão."
      ]
    },
    {
      "cell_type": "markdown",
      "metadata": {
        "id": "cQmR9pqXD5Bu"
      },
      "source": [
        "Compressões feitas com o gzip:\n",
        "1. O arquivo **CompressStudy_1** de 332 MB (Megabyte) foi comprimido para 2,3 MB (Megabyte) e levou um tempo de 4 segundos para realizar a compressão.\n",
        "2. O arquivo **CompressStudy_2** de 238 MB (Megabyte) foi comprimido para 1,2 MB (Megabyte) e levou um tempo de 2,5 segundos para realizar a compressão.\n",
        "3. O arquivo **CompressStudy_3** de 80 MB (Megabyte) foi comprimido para 356 KB (Kilobyte) ou 0,356 MB (Megabyte) e levou um tempo de 1,3 segundos para realizar a compressão.\n",
        "4. O arquivo **CompressStudy_4** de 648 MB (Megabyte) foi comprimido para 4 MB (Megabyte) e levou um tempo de 7,5 segundos para realizar a compressão.\n",
        "5. O arquivo **CompressStudy_5** de 648 MB (Megabyte) foi comprimido para 4,1 MB (Megabyte) e levou um tempo de 6 segundos para realizar a compressão."
      ]
    },
    {
      "cell_type": "markdown",
      "metadata": {
        "id": "WWDxdx1pG6Gx"
      },
      "source": [
        "Compressões feitas com o bzip2:\n",
        "1. O arquivo **CompressStudy_1** de 332 MB (Megabyte) foi comprimido para 511 KB (Kilobyte) ou 0,511 MB (Megabyte) e levou um tempo de 1 minuto para realizar a compressão.\n",
        "2. O arquivo **CompressStudy_2** de 238 MB (Megabyte) foi comprimido para 532 KB (Kilobyte) ou 0,532 MB (Megabyte) e levou um tempo de 50 segundos para realizar a compressão.\n",
        "3. O arquivo **CompressStudy_3** de 80 MB (Megabyte) foi comprimido para 39 KB (Kilobyte) ou 0,039 MB (Megabyte) e levou um tempo de 20 segundos para realizar a compressão.\n",
        "4. O arquivo **CompressStudy_4** de 648 MB (Megabyte) foi comprimido para 2,6 MB (Megabyte) e levou um tempo de 2 minutos e 19 segundos para realizar a compressão.\n",
        "5. O arquivo **CompressStudy_5** de 648 MB (Megabyte) foi comprimido para 2,5 MB (Megabyte) e levou um tempo de 2 minutos e 19 segundos para realizar a compressão."
      ]
    },
    {
      "cell_type": "markdown",
      "metadata": {
        "id": "MMEYlT0hLt0s"
      },
      "source": [
        "Compressões feitas com o rar:\n",
        "1. O arquivo **CompressStudy_1** de 332 MB (Megabyte) foi comprimido para 30 KB (Kilobyte) ou 0,030 MB (Megabyte) e levou um tempo de 8,5 segundos para realizar a compressão.\n",
        "2. O arquivo **CompressStudy_2** de 238 MB (Megabyte) foi comprimido para 21 KB (Kilobyte) ou 0,021 MB (Megabyte) e levou um tempo de 6 segundos para realizar a compressão.\n",
        "3. O arquivo **CompressStudy_3** de 80 MB (Megabyte) foi comprimido para 9 KB (Kilobyte) ou 0,009 MB (Megabyte) e levou um tempo de 1,5 segundos para realizar a compressão.\n",
        "4. O arquivo **CompressStudy_4** de 648 MB (Megabyte) foi comprimido para 52 KB (Kilobyte) ou 0,052 MB (Megabyte) e levou um tempo de 17 segundos para realizar a compressão.\n",
        "5. O arquivo **CompressStudy_5** de 648 MB (Megabyte) foi comprimido para 52 KB (Kilobyte) ou 0,052 MB (Megabyte) e levou um tempo de 13 segundos para realizar a compressão."
      ]
    },
    {
      "cell_type": "markdown",
      "metadata": {
        "id": "biJrmaFQOXS4"
      },
      "source": [
        "Compressões feitas com o xz:\n",
        "1. O arquivo **CompressStudy_1** de 332 MB (Megabyte) foi comprimido para 51 KB (Kilobyte) ou 0,051 MB (Megabyte) e levou um tempo de 17 segundos para realizar a compressão.\n",
        "2. O arquivo **CompressStudy_2** de 238 MB (Megabyte) foi comprimido para 37 KB (Kilobyte) ou 0,037 MB (Megabyte) e levou um tempo de 6 segundos para realizar a compressão.\n",
        "3. O arquivo **CompressStudy_3** de 80 MB (Megabyte) foi comprimido para 12 KB (Kilobyte) ou 0,012 MB (Megabyte) e levou um tempo de 3 segundos para realizar a compressão.\n",
        "4. O arquivo **CompressStudy_4** de 648 MB (Megabyte) foi comprimido para 98 KB (Kilobyte) ou 0,098 MB (Megabyte) e levou um tempo de 32 segundos para realizar a compressão.\n",
        "5. O arquivo **CompressStudy_5** de 648 MB (Megabyte) foi comprimido para 98 KB (Kilobyte) ou 0,098 MB (Megabyte) e levou um tempo de 32 segundos para realizar a compressão."
      ]
    },
    {
      "cell_type": "markdown",
      "metadata": {
        "id": "E8p0p6pCOXX9"
      },
      "source": [
        "Compressões feitas com o arj:\n",
        "1. O arquivo **CompressStudy_1** de 332 MB (Megabyte) foi comprimido para 2,3 MB (Megabyte) e levou um tempo de 4 segundos para realizar a compressão.\n",
        "2. O arquivo **CompressStudy_2** de 238 MB (Megabyte) foi comprimido para 1,3 MB (Megabyte) e levou um tempo de 2 segundos para realizar a compressão.\n",
        "3. O arquivo **CompressStudy_3** de 80 MB (Megabyte) foi comprimido para 399 KB (Kilobyte) ou 0,399 MB (Megabyte) e levou um tempo de 1 segundo para realizar a compressão.\n",
        "4. O arquivo **CompressStudy_4** de 648 MB (Megabyte) foi comprimido para 5,3 MB (Megabyte) e levou um tempo de 6 segundos para realizar a compressão.\n",
        "5. O arquivo **CompressStudy_5** de 648 MB (Megabyte) foi comprimido para 4,6 MB (Megabyte) e levou um tempo de 6 segundos para realizar a compressão."
      ]
    },
    {
      "cell_type": "code",
      "metadata": {
        "id": "rgz9wxyjUkfr"
      },
      "source": [
        "import matplotlib.pyplot as plt\n",
        "import pathlib\n",
        "import seaborn as sns\n",
        "import plotly.express as px\n",
        "import numpy as np\n",
        "import pandas as pd\n"
      ],
      "execution_count": 12,
      "outputs": []
    },
    {
      "cell_type": "code",
      "metadata": {
        "colab": {
          "base_uri": "https://localhost:8080/"
        },
        "id": "q_7jbnhXVI_k",
        "outputId": "b5869286-7c53-498a-83d2-a5ccd16cc252"
      },
      "source": [
        "# Vamos calcular a média de tempo de cada um dos compressores diferentes\n",
        "\n",
        "setezip = [28, 10, 5, 46, 44]\n",
        "Media_setezip = np.mean(setezip)\n",
        "print(\"A média de tempo gasto para compressão dos arquivos no 7 zip foi: \", Media_setezip)"
      ],
      "execution_count": 6,
      "outputs": [
        {
          "output_type": "stream",
          "name": "stdout",
          "text": [
            "A média de tempo gasto para compressão dos arquivos no 7 zip foi:  26.6\n"
          ]
        }
      ]
    },
    {
      "cell_type": "code",
      "metadata": {
        "colab": {
          "base_uri": "https://localhost:8080/"
        },
        "id": "FJoGqvUNV0VK",
        "outputId": "1867aafb-da5f-4330-aa78-f8fba4e14bab"
      },
      "source": [
        "gzip = [4, 2.5, 1.3, 7.5, 3]\n",
        "Media_gzip = np.mean(gzip)\n",
        "print(\"A média de tempo gasto para compressão dos arquivos no gzip foi: \", Media_gzip)"
      ],
      "execution_count": 7,
      "outputs": [
        {
          "output_type": "stream",
          "name": "stdout",
          "text": [
            "A média de tempo gasto para compressão dos arquivos no gzip foi:  3.66\n"
          ]
        }
      ]
    },
    {
      "cell_type": "code",
      "metadata": {
        "colab": {
          "base_uri": "https://localhost:8080/"
        },
        "id": "zJJeqkLCWHCx",
        "outputId": "1e4f87f1-5b12-418f-c465-09cab4d0eecd"
      },
      "source": [
        "bzip2 = [60, 50, 20, 139, 139]\n",
        "Media_bzip2= np.mean(bzip2)\n",
        "print(\"A média de tempo gasto para compressão dos arquivos no bzip2 foi: \", Media_bzip2)"
      ],
      "execution_count": 8,
      "outputs": [
        {
          "output_type": "stream",
          "name": "stdout",
          "text": [
            "A média de tempo gasto para compressão dos arquivos no bzip2 foi:  81.6\n"
          ]
        }
      ]
    },
    {
      "cell_type": "code",
      "metadata": {
        "colab": {
          "base_uri": "https://localhost:8080/"
        },
        "id": "1VBPgPJHWa9q",
        "outputId": "8e79e03c-f3b6-4eb4-c677-a31b9b4738fb"
      },
      "source": [
        "rar = [8.5, 6, 1.5, 17, 13]\n",
        "Media_rar= np.mean(rar)\n",
        "print(\"A média de tempo gasto para compressão dos arquivos no rarfoi: \", Media_rar)"
      ],
      "execution_count": 9,
      "outputs": [
        {
          "output_type": "stream",
          "name": "stdout",
          "text": [
            "A média de tempo gasto para compressão dos arquivos no rarfoi:  9.2\n"
          ]
        }
      ]
    },
    {
      "cell_type": "code",
      "metadata": {
        "colab": {
          "base_uri": "https://localhost:8080/"
        },
        "id": "Wgs4fJkiWnFH",
        "outputId": "b2053005-0c17-4578-b562-fb1e754a2ae9"
      },
      "source": [
        "xz = [17, 6, 3, 32, 32]\n",
        "Media_xz= np.mean(xz)\n",
        "print(\"A média de tempo gasto para compressão dos arquivos no xz foi: \", Media_xz)"
      ],
      "execution_count": 10,
      "outputs": [
        {
          "output_type": "stream",
          "name": "stdout",
          "text": [
            "A média de tempo gasto para compressão dos arquivos no xz foi:  18.0\n"
          ]
        }
      ]
    },
    {
      "cell_type": "code",
      "metadata": {
        "colab": {
          "base_uri": "https://localhost:8080/"
        },
        "id": "v2ct1yQJWyn6",
        "outputId": "08825e35-e76a-4922-acd3-d8da43aa7a9e"
      },
      "source": [
        "arj= [4, 2, 1, 6, 6]\n",
        "Media_arj = np.mean(arj)\n",
        "print(\"A média de tempo gasto para compressão dos arquivos no arj foi: \", Media_arj)"
      ],
      "execution_count": 11,
      "outputs": [
        {
          "output_type": "stream",
          "name": "stdout",
          "text": [
            "A média de tempo gasto para compressão dos arquivos no arj foi:  3.8\n"
          ]
        }
      ]
    },
    {
      "cell_type": "code",
      "metadata": {
        "id": "6JzQZZLUXQ0l"
      },
      "source": [
        "# Armazenamos os dados das médias em um array apenas com os valores\n",
        "Medias = [Media_setezip, Media_arj, Media_bzip2, Media_gzip, Media_rar, Media_xz]\n",
        "\n",
        "# Indexamos os nomes de cada formato na mesma ordem do armazenamento dos arrays para futuramente criar um dataframe\n",
        "index = [\"SeteZip\", \"ARJ\", \"Bzip2\", \"Gzip\", \"Rar\", \"XZ\"]\n",
        "\n",
        "#Criamos outro array, agora para nomear a coluna\n",
        "nome_coluna = [\"Media\"]"
      ],
      "execution_count": 30,
      "outputs": []
    },
    {
      "cell_type": "code",
      "metadata": {
        "colab": {
          "base_uri": "https://localhost:8080/",
          "height": 238
        },
        "id": "oup8BF50YcOl",
        "outputId": "d46a6ab7-5083-4776-a444-1398bc01764b"
      },
      "source": [
        "#Criamos o data frame \"data\" com os valores das médias e seus respectivos nomes relacionados\n",
        "data = pd.DataFrame(Medias, index=index, columns=nome_coluna)\n",
        "data"
      ],
      "execution_count": 26,
      "outputs": [
        {
          "output_type": "execute_result",
          "data": {
            "text/html": [
              "<div>\n",
              "<style scoped>\n",
              "    .dataframe tbody tr th:only-of-type {\n",
              "        vertical-align: middle;\n",
              "    }\n",
              "\n",
              "    .dataframe tbody tr th {\n",
              "        vertical-align: top;\n",
              "    }\n",
              "\n",
              "    .dataframe thead th {\n",
              "        text-align: right;\n",
              "    }\n",
              "</style>\n",
              "<table border=\"1\" class=\"dataframe\">\n",
              "  <thead>\n",
              "    <tr style=\"text-align: right;\">\n",
              "      <th></th>\n",
              "      <th>Media</th>\n",
              "    </tr>\n",
              "  </thead>\n",
              "  <tbody>\n",
              "    <tr>\n",
              "      <th>SeteZip</th>\n",
              "      <td>26.60</td>\n",
              "    </tr>\n",
              "    <tr>\n",
              "      <th>ARJ</th>\n",
              "      <td>3.80</td>\n",
              "    </tr>\n",
              "    <tr>\n",
              "      <th>Bzip2</th>\n",
              "      <td>81.60</td>\n",
              "    </tr>\n",
              "    <tr>\n",
              "      <th>Gzip</th>\n",
              "      <td>3.66</td>\n",
              "    </tr>\n",
              "    <tr>\n",
              "      <th>Rar</th>\n",
              "      <td>9.20</td>\n",
              "    </tr>\n",
              "    <tr>\n",
              "      <th>XZ</th>\n",
              "      <td>18.00</td>\n",
              "    </tr>\n",
              "  </tbody>\n",
              "</table>\n",
              "</div>"
            ],
            "text/plain": [
              "         Media\n",
              "SeteZip  26.60\n",
              "ARJ       3.80\n",
              "Bzip2    81.60\n",
              "Gzip      3.66\n",
              "Rar       9.20\n",
              "XZ       18.00"
            ]
          },
          "metadata": {},
          "execution_count": 26
        }
      ]
    },
    {
      "cell_type": "code",
      "metadata": {
        "colab": {
          "base_uri": "https://localhost:8080/",
          "height": 238
        },
        "id": "qQebAcwnZiMX",
        "outputId": "fc8fba5c-ff5a-47b1-f145-267ede39e277"
      },
      "source": [
        "# Ordenamos os valores da coluna \"media\" do menor para o maior\n",
        "datas = data.sort_values(by=[\"Media\"], na_position='first')\n",
        "datas"
      ],
      "execution_count": 28,
      "outputs": [
        {
          "output_type": "execute_result",
          "data": {
            "text/html": [
              "<div>\n",
              "<style scoped>\n",
              "    .dataframe tbody tr th:only-of-type {\n",
              "        vertical-align: middle;\n",
              "    }\n",
              "\n",
              "    .dataframe tbody tr th {\n",
              "        vertical-align: top;\n",
              "    }\n",
              "\n",
              "    .dataframe thead th {\n",
              "        text-align: right;\n",
              "    }\n",
              "</style>\n",
              "<table border=\"1\" class=\"dataframe\">\n",
              "  <thead>\n",
              "    <tr style=\"text-align: right;\">\n",
              "      <th></th>\n",
              "      <th>Media</th>\n",
              "    </tr>\n",
              "  </thead>\n",
              "  <tbody>\n",
              "    <tr>\n",
              "      <th>Gzip</th>\n",
              "      <td>3.66</td>\n",
              "    </tr>\n",
              "    <tr>\n",
              "      <th>ARJ</th>\n",
              "      <td>3.80</td>\n",
              "    </tr>\n",
              "    <tr>\n",
              "      <th>Rar</th>\n",
              "      <td>9.20</td>\n",
              "    </tr>\n",
              "    <tr>\n",
              "      <th>XZ</th>\n",
              "      <td>18.00</td>\n",
              "    </tr>\n",
              "    <tr>\n",
              "      <th>SeteZip</th>\n",
              "      <td>26.60</td>\n",
              "    </tr>\n",
              "    <tr>\n",
              "      <th>Bzip2</th>\n",
              "      <td>81.60</td>\n",
              "    </tr>\n",
              "  </tbody>\n",
              "</table>\n",
              "</div>"
            ],
            "text/plain": [
              "         Media\n",
              "Gzip      3.66\n",
              "ARJ       3.80\n",
              "Rar       9.20\n",
              "XZ       18.00\n",
              "SeteZip  26.60\n",
              "Bzip2    81.60"
            ]
          },
          "metadata": {},
          "execution_count": 28
        }
      ]
    },
    {
      "cell_type": "code",
      "metadata": {
        "colab": {
          "base_uri": "https://localhost:8080/",
          "height": 638
        },
        "id": "ieSH5beHW_8X",
        "outputId": "56042901-d32e-4a13-912b-da898781ff74"
      },
      "source": [
        "# E, por fim, plotamos um gráfico com a relação de valores médios de cada um, do maior para o menor.\n",
        "datas.plot(kind='barh', figsize=(15,10))\n",
        "plt.title(\"Média de tempo de compressão em cada formato\")\n",
        "plt.ylabel(\"Compressor\")\n",
        "plt.xlabel(\"Média\")"
      ],
      "execution_count": 29,
      "outputs": [
        {
          "output_type": "execute_result",
          "data": {
            "text/plain": [
              "Text(0.5, 0, 'Média')"
            ]
          },
          "metadata": {},
          "execution_count": 29
        },
        {
          "output_type": "display_data",
          "data": {
            "image/png": "[encoded data removed]",
            "text/plain": [
              "<Figure size 1080x720 with 1 Axes>"
            ]
          },
          "metadata": {
            "needs_background": "light"
          }
        }
      ]
    },
    {
      "cell_type": "markdown",
      "metadata": {
        "id": "40JkRkINa8XX"
      },
      "source": [
        "O **Gzip** foi o método de compressão que levou menos tempo para gerar os arquivos comprimidos, poucos milésimos de segundos de diferença do **ARJ**. Unicamente pensando-se em questão à velocidade, esses dois métodos foram os que se mostraram mais promissores."
      ]
    },
    {
      "cell_type": "code",
      "metadata": {
        "id": "QLZpzziebLAK"
      },
      "source": [
        "# Agora, vamos armazenar os valores (em megabyte) dos tamanhos dos arquivos comprimidos.\n",
        "\n",
        "T_setezip = [0.051, 0.037, 0.013, 0.099, 0.099]\n",
        "T_gzip = [2.3, 1.2, 0.356, 4, 4.1]\n",
        "T_bzip2 = [0.511, 0.532, 0.039, 2.6, 2.5]\n",
        "T_rar = [0.030, 0.021, 0.009, 0.052, 0.052]\n",
        "T_xz = [0.051, 0.037, 0.012, 0.098, 0.098]\n",
        "T_arj = [2.3, 1.3, 0.399, 5.3, 4.6]"
      ],
      "execution_count": 31,
      "outputs": []
    },
    {
      "cell_type": "code",
      "metadata": {
        "id": "FmlA6o0XeSZM"
      },
      "source": [
        "# Vamos calcular a média do tamanho dos arquivos gerados por cada um dos compressores, assim como fizemos com o tempo.\n",
        "Media_T_setezip = np.mean(T_setezip)\n",
        "Media_T_gzip = np.mean(T_gzip)\n",
        "Media_T_bzip2 = np.mean(T_bzip2)\n",
        "Media_T_rar = np.mean(T_rar)\n",
        "Media_T_xz = np.mean(T_xz)\n",
        "Media_T_arj = np.mean(T_arj)"
      ],
      "execution_count": 35,
      "outputs": []
    },
    {
      "cell_type": "code",
      "metadata": {
        "id": "LRRCKB5gfbs7"
      },
      "source": [
        "# Criar array com a média dos tamanhos\n",
        "Medias_T = [Media_T_setezip, Media_T_gzip, Media_T_bzip2, Media_T_rar, Media_T_xz, Media_T_arj]\n",
        "\n",
        "# Indexamos os nomes de cada formato na mesma ordem do armazenamento dos arrays para futuramente criar um dataframe\n",
        "index2 = [\"SeteZip\", \"Gzip\", \"Bzip2\", \"Rar\", \"XZ\", \"ARJ\"]"
      ],
      "execution_count": 38,
      "outputs": []
    },
    {
      "cell_type": "code",
      "metadata": {
        "colab": {
          "base_uri": "https://localhost:8080/",
          "height": 238
        },
        "id": "xhQRg4CCgC7r",
        "outputId": "a6952a44-0777-44a8-dd2d-f824b706e7cf"
      },
      "source": [
        "#Criamos o data frame \"data2\" com os valores das médias e seus respectivos nomes relacionados\n",
        "data2 = pd.DataFrame(Medias_T, index= index2, columns=nome_coluna)\n",
        "data2"
      ],
      "execution_count": 42,
      "outputs": [
        {
          "output_type": "execute_result",
          "data": {
            "text/html": [
              "<div>\n",
              "<style scoped>\n",
              "    .dataframe tbody tr th:only-of-type {\n",
              "        vertical-align: middle;\n",
              "    }\n",
              "\n",
              "    .dataframe tbody tr th {\n",
              "        vertical-align: top;\n",
              "    }\n",
              "\n",
              "    .dataframe thead th {\n",
              "        text-align: right;\n",
              "    }\n",
              "</style>\n",
              "<table border=\"1\" class=\"dataframe\">\n",
              "  <thead>\n",
              "    <tr style=\"text-align: right;\">\n",
              "      <th></th>\n",
              "      <th>Media</th>\n",
              "    </tr>\n",
              "  </thead>\n",
              "  <tbody>\n",
              "    <tr>\n",
              "      <th>SeteZip</th>\n",
              "      <td>0.0598</td>\n",
              "    </tr>\n",
              "    <tr>\n",
              "      <th>Gzip</th>\n",
              "      <td>2.3912</td>\n",
              "    </tr>\n",
              "    <tr>\n",
              "      <th>Bzip2</th>\n",
              "      <td>1.2364</td>\n",
              "    </tr>\n",
              "    <tr>\n",
              "      <th>Rar</th>\n",
              "      <td>0.0328</td>\n",
              "    </tr>\n",
              "    <tr>\n",
              "      <th>XZ</th>\n",
              "      <td>0.0592</td>\n",
              "    </tr>\n",
              "    <tr>\n",
              "      <th>ARJ</th>\n",
              "      <td>2.7798</td>\n",
              "    </tr>\n",
              "  </tbody>\n",
              "</table>\n",
              "</div>"
            ],
            "text/plain": [
              "          Media\n",
              "SeteZip  0.0598\n",
              "Gzip     2.3912\n",
              "Bzip2    1.2364\n",
              "Rar      0.0328\n",
              "XZ       0.0592\n",
              "ARJ      2.7798"
            ]
          },
          "metadata": {},
          "execution_count": 42
        }
      ]
    },
    {
      "cell_type": "code",
      "metadata": {
        "colab": {
          "base_uri": "https://localhost:8080/",
          "height": 238
        },
        "id": "nZY766P0gQZB",
        "outputId": "b9856147-1230-4165-981e-30337efa442a"
      },
      "source": [
        "# Ordenamos os valores da coluna \"media\" do menor para o maior\n",
        "data2 = data2.sort_values(by=[\"Media\"], na_position='first')\n",
        "data2"
      ],
      "execution_count": 43,
      "outputs": [
        {
          "output_type": "execute_result",
          "data": {
            "text/html": [
              "<div>\n",
              "<style scoped>\n",
              "    .dataframe tbody tr th:only-of-type {\n",
              "        vertical-align: middle;\n",
              "    }\n",
              "\n",
              "    .dataframe tbody tr th {\n",
              "        vertical-align: top;\n",
              "    }\n",
              "\n",
              "    .dataframe thead th {\n",
              "        text-align: right;\n",
              "    }\n",
              "</style>\n",
              "<table border=\"1\" class=\"dataframe\">\n",
              "  <thead>\n",
              "    <tr style=\"text-align: right;\">\n",
              "      <th></th>\n",
              "      <th>Media</th>\n",
              "    </tr>\n",
              "  </thead>\n",
              "  <tbody>\n",
              "    <tr>\n",
              "      <th>Rar</th>\n",
              "      <td>0.0328</td>\n",
              "    </tr>\n",
              "    <tr>\n",
              "      <th>XZ</th>\n",
              "      <td>0.0592</td>\n",
              "    </tr>\n",
              "    <tr>\n",
              "      <th>SeteZip</th>\n",
              "      <td>0.0598</td>\n",
              "    </tr>\n",
              "    <tr>\n",
              "      <th>Bzip2</th>\n",
              "      <td>1.2364</td>\n",
              "    </tr>\n",
              "    <tr>\n",
              "      <th>Gzip</th>\n",
              "      <td>2.3912</td>\n",
              "    </tr>\n",
              "    <tr>\n",
              "      <th>ARJ</th>\n",
              "      <td>2.7798</td>\n",
              "    </tr>\n",
              "  </tbody>\n",
              "</table>\n",
              "</div>"
            ],
            "text/plain": [
              "          Media\n",
              "Rar      0.0328\n",
              "XZ       0.0592\n",
              "SeteZip  0.0598\n",
              "Bzip2    1.2364\n",
              "Gzip     2.3912\n",
              "ARJ      2.7798"
            ]
          },
          "metadata": {},
          "execution_count": 43
        }
      ]
    },
    {
      "cell_type": "code",
      "metadata": {
        "colab": {
          "base_uri": "https://localhost:8080/",
          "height": 638
        },
        "id": "9cNwMYaWgYyx",
        "outputId": "6fb5e943-f038-4cf8-92b0-224f675d1c07"
      },
      "source": [
        "# E, por fim, plotamos um gráfico com a relação de valores médios de cada um, do maior para o menor.\n",
        "data2.plot(kind='barh', figsize=(15,10))\n",
        "plt.title(\"Média do tamanho de arquivo comprimido por formato\")\n",
        "plt.ylabel(\"Compressor\")\n",
        "plt.xlabel(\"Média\")"
      ],
      "execution_count": 45,
      "outputs": [
        {
          "output_type": "execute_result",
          "data": {
            "text/plain": [
              "Text(0.5, 0, 'Média')"
            ]
          },
          "metadata": {},
          "execution_count": 45
        },
        {
          "output_type": "display_data",
          "data": {
            "image/png": "[encoded data removed]",
            "text/plain": [
              "<Figure size 1080x720 with 1 Axes>"
            ]
          },
          "metadata": {
            "needs_background": "light"
          }
        }
      ]
    },
    {
      "cell_type": "markdown",
      "metadata": {
        "id": "jKuSJcDtgftL"
      },
      "source": [
        "Verificamos através desse gráfico que o formato que gerou os menores arquivos foi o **.rar**\n",
        "\n",
        "Formato esse que, na tabela anterior da média de tempo de processamento, foi o terceiro menor. Os outros dois formatos que estão mais próximos do rar em tamanho de arquivo são o **XZ** e o **7Zip**, respectivamente. Porém, ambos tiveram um tempo médio de execução consideravelmente elevado em relação ao rar, o que torna o rar na minha opinião o melhor formato para compressão dos dados de estudo."
      ]
    }
  ]
}